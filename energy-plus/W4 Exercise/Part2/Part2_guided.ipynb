{
 "cells": [
  {
   "cell_type": "markdown",
   "id": "27009dcd",
   "metadata": {},
   "source": [
    "# Week 4 simulations for dataset construction"
   ]
  },
  {
   "cell_type": "code",
   "execution_count": null,
   "id": "a9137220",
   "metadata": {},
   "outputs": [],
   "source": [
    "## Install needed packages\n",
    "# skip this if you have them already\n",
    "#!pip install eppy esoreader tqdm shutil"
   ]
  },
  {
   "cell_type": "code",
   "execution_count": null,
   "id": "dc978443",
   "metadata": {},
   "outputs": [],
   "source": [
    "## import needed packages\n",
    "# No need to modify anything here\n",
    "\n",
    "import pandas as pd\n",
    "import numpy as np\n",
    "from eppy.modeleditor import IDF\n",
    "from eppy import modeleditor\n",
    "import esoreader\n",
    "import os\n",
    "import sys\n",
    "from itertools import product\n",
    "from tqdm import trange\n",
    "import shutil\n",
    "\n",
    "def clear_output():\n",
    "    \"\"\"\n",
    "    clear output for both jupyter notebook and the console\n",
    "    \"\"\"\n",
    "    os.system('cls' if os.name == 'nt' else 'clear')\n",
    "    if 'ipykernel' in sys.modules:\n",
    "        from IPython.display import clear_output as clear\n",
    "        clear()"
   ]
  },
  {
   "cell_type": "code",
   "execution_count": null,
   "id": "9a3bb581",
   "metadata": {},
   "outputs": [],
   "source": [
    "## define the ESO class to read the .eso file\n",
    "# just run this cell once \n",
    "# No need to modify anything here\n",
    "\n",
    "class ESO:\n",
    "    def __init__(self, path):\n",
    "        self.dd, self.data = esoreader.read(path)\n",
    "        \n",
    "    def read_var(self, variable, frequency = \"Hourly\"):\n",
    "        return [\n",
    "            {\"key\": k,\n",
    "             \"series\": self.data[self.dd.index[frequency, k, variable]]}\n",
    "            for _f, k, _v in self.dd.find_variable(variable)\n",
    "        ]\n",
    "        \n",
    "    def get_df(self, variable, frequency = \"Hourly\"):\n",
    "        dic = self.read_var(variable, frequency)\n",
    "        key = [each[\"key\"] for each in dic]\n",
    "        values = [each[\"series\"] for each in dic]\n",
    "        df = pd.DataFrame(values,index = key).T\n",
    "        return df\n",
    "    \n",
    "    def total_kwh(self, variable, frequency = \"Hourly\"):\n",
    "        j_per_kwh = 3_600_000\n",
    "        results = self.read_var(variable,frequency)\n",
    "        return sum(sum(s[\"series\"]) for s in results)/j_per_kwh"
   ]
  },
  {
   "cell_type": "code",
   "execution_count": null,
   "id": "dadcab2b",
   "metadata": {},
   "outputs": [],
   "source": [
    "## Set up EnergyPlus IDD file\n",
    "# need to change the path to your EnergyPlus root directory\n",
    "\n",
    "eplus_root = r\"C:\\EnergyPlusV25-1-0\" # Change this to your EnergyPlus root directory\n",
    "iddfile = os.path.join(eplus_root,\"Energy+.idd\")\n",
    "\n",
    "try:\n",
    "    IDF.setiddname(iddfile)\n",
    "except modeleditor.IDDAlreadySetError as e:\n",
    "    pass\n",
    "\n",
    "root_dir = os.getcwd()\n",
    "print(\"Current working directory:\", root_dir)"
   ]
  },
  {
   "cell_type": "markdown",
   "id": "d0e29fec",
   "metadata": {},
   "source": [
    "## Run simulation"
   ]
  },
  {
   "cell_type": "code",
   "execution_count": null,
   "id": "3782e122",
   "metadata": {},
   "outputs": [],
   "source": [
    "## read in the base idf file\n",
    "# complete the code to define the simulation parameter space\n",
    "\n",
    "idf = IDF(os.path.join(root_dir,r\"model_week4.idf\"))\n",
    "\n",
    "## Define mapping dictionaries\n",
    "MAP_WEATHER = {\n",
    "    \"San Francisco\":os.path.join(root_dir,r\"..\\weather_data\\USA_CA_San.Francisco.Intl.AP.724940_TMY3.epw\"),\n",
    "    \"Sacramento\":os.path.join(root_dir,r\"..\\weather_data\\USA_CA_Sacramento.Intl.AP.724930_TMY3.epw\"),\n",
    "    \"Chicago\":..., # filled it with your path\n",
    "    \"New York\":... # filled it with your path\n",
    "}\n",
    "\n",
    "MAP_WWR = {\n",
    "    0.25: [2,3.75], \n",
    "    0.40: [2,6],\n",
    "    0.60: [0.5,9], #(10*3)*0.6/2\n",
    "}\n",
    "\n",
    "## Define parameter space\n",
    "Location = [\"San Francisco\", \"Sacramento\", \"Chicago\", \"New York\"]\n",
    "Wall_Rvalue = [14.3, 21.9, 29.7]  # in ft2Fhr/Btu\n",
    "WWR = [0.25, 0.40, 0.60] \n",
    "SHGC = ... # filled it with the SHGC values\n",
    "\n",
    "## Generate simulation parameter setting dataframe and store it\n",
    "keys = [\"Location\",\"Wall_Rvalue\",\"WWR\",\"SHGC\"]\n",
    "dic = [dict(zip(keys, v)) for v in product(Location,Wall_Rvalue,WWR,SHGC)]\n",
    "df = pd.DataFrame(dic)\n",
    "# format the Wall_Rvalue to m2K/W\n",
    "df[\"Wall_Rvalue\"] = ...  # filled it to make the wall R value convert to m2K/W \n",
    "\n",
    "# store simulation parameter settings\n",
    "df.to_csv(os.path.join(root_dir,\"week4_all_parameters.csv\"))"
   ]
  },
  {
   "cell_type": "code",
   "execution_count": null,
   "id": "7ff1adff",
   "metadata": {},
   "outputs": [],
   "source": [
    "## Modify idf function\n",
    "# complete the function to modify the idf based on the modify_dict\n",
    "def modify_idf(idf,modify_dict):\n",
    "    # modify wall R-value\n",
    "    ...\n",
    "\n",
    "    # modify WWR\n",
    "    window = idf.idfobjects[\"WINDOW\"]\n",
    "    new_window_x, new_window_length = MAP_WWR[modify_dict[\"WWR\"]]\n",
    "    window[0][\"Starting_X_Coordinate\"] = new_window_x\n",
    "    window[0][\"Length\"] = new_window_length\n",
    "\n",
    "    # modify SHGC\n",
    "    ...\n",
    "\n",
    "    # modify weather file\n",
    "    ...\n",
    "    return idf"
   ]
  },
  {
   "cell_type": "code",
   "execution_count": null,
   "id": "9abc95c9",
   "metadata": {},
   "outputs": [],
   "source": [
    "## Run simulations\n",
    "# complete the code to run simulations and store the results\n",
    "# try to fill it in following steps:\n",
    "# 1. define an empty list/dataframe to store results\n",
    "# 2. loop through each row in the simulation parameter dataframe\n",
    "# 3. change the output folder name to avoid overwriting\n",
    "# 4. modify the idf based on the current parameter settings\n",
    "# 5. run one simulation\n",
    "# 6. read results and store them in the defined list/dataframe\n",
    "# 6*. (optional) delete the output folder to save space\n",
    "# 6*. (optional) clear output for better visualization\n",
    "# 7. after running all simulations, store the results to a csv file\n",
    "\n",
    "..."
   ]
  },
  {
   "cell_type": "code",
   "execution_count": null,
   "id": "18903df6",
   "metadata": {},
   "outputs": [],
   "source": [
    "## Load results and analyze\n",
    "result_df = ...\n",
    "df = ...\n",
    "\n",
    "# complete the analysis code here"
   ]
  }
 ],
 "metadata": {
  "kernelspec": {
   "display_name": "Python 3",
   "language": "python",
   "name": "python3"
  },
  "language_info": {
   "codemirror_mode": {
    "name": "ipython",
    "version": 3
   },
   "file_extension": ".py",
   "mimetype": "text/x-python",
   "name": "python",
   "nbconvert_exporter": "python",
   "pygments_lexer": "ipython3",
   "version": "3.12.0"
  }
 },
 "nbformat": 4,
 "nbformat_minor": 5
}
