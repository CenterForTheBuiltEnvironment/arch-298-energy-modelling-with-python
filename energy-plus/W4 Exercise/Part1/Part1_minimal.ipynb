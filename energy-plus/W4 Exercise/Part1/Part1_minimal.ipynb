{
 "cells": [
  {
   "cell_type": "markdown",
   "id": "27009dcd",
   "metadata": {},
   "source": [
    "# Week 4 Automate Parametric Simulations"
   ]
  },
  {
   "cell_type": "code",
   "execution_count": null,
   "id": "dc978443",
   "metadata": {},
   "outputs": [],
   "source": [
    "import pandas as pd\n",
    "import numpy as np\n",
    "from eppy.modeleditor import IDF\n",
    "from eppy import modeleditor\n",
    "import esoreader\n",
    "import os\n",
    "import sys\n",
    "from itertools import product"
   ]
  },
  {
   "cell_type": "code",
   "execution_count": null,
   "id": "dadcab2b",
   "metadata": {},
   "outputs": [],
   "source": [
    "eplus_root = r\"C:\\EnergyPlusV25-1-0\" # Change this to your EnergyPlus root directory\n",
    "iddfile = os.path.join(eplus_root,\"Energy+.idd\")\n",
    "\n",
    "try:\n",
    "    IDF.setiddname(iddfile)\n",
    "except modeleditor.IDDAlreadySetError as e:\n",
    "    print(e)\n",
    "    \n",
    "root_dir = os.getcwd()\n",
    "\n",
    "MAP_WEATHER = {\n",
    "    \"San Francisco\":os.path.normpath(os.path.join(root_dir, r'.\\weather data\\USA_CA_San.Francisco.Intl.AP.724940_TMY3.epw')),\n",
    "    \"Sacramento\":os.path.normpath(os.path.join(root_dir, r\"..\\weather data\\USA_CA_Sacramento.Exec.AP.724830_TMY3.epw\")),\n",
    "    \"Chicago\":os.path.normpath(os.path.join(root_dir, r\"..\\weather data\\USA_IL_Chicago-OHare.Intl.AP.725300_TMY3.epw\")),\n",
    "    \"New York\":os.path.normpath(os.path.join(root_dir, r\"..\\weather data\\USA_NY_New.York-J.F.Kennedy.Intl.AP.744860_TMY3.epw\")),\n",
    "}"
   ]
  },
  {
   "cell_type": "code",
   "execution_count": null,
   "id": "634033ac",
   "metadata": {},
   "outputs": [],
   "source": [
    "class ESO:\n",
    "    def __init__(self, path):\n",
    "        self.dd, self.data = esoreader.read(path)\n",
    "    def read_var(self, variable, frequency = \"Hourly\"):\n",
    "        return [\n",
    "            {\"key\": k,\n",
    "             \"series\": self.data[self.dd.index[frequency, k, variable]]}\n",
    "            for _f, k, _v in self.dd.find_variable(variable)\n",
    "        ]\n",
    "    def get_df(self, variable, frequency = \"Hourly\"):\n",
    "        dic = self.read_var(variable, frequency)\n",
    "        key = [each[\"key\"] for each in dic]\n",
    "        values = [each[\"series\"] for each in dic]\n",
    "        df = pd.DataFrame(values,index = key).T\n",
    "        return df\n",
    "    def total_kwh(self, variable, frequency = \"Hourly\"):\n",
    "        j_per_kwh = 3_600_000\n",
    "        results = self.read_var(variable,frequency)\n",
    "        return sum(sum(s[\"series\"]) for s in results)/j_per_kwh"
   ]
  },
  {
   "cell_type": "code",
   "execution_count": null,
   "id": "bb32f771",
   "metadata": {},
   "outputs": [],
   "source": [
    "# Step 1: Read the parametric table\n",
    "\n",
    "# Step 2: Prepare result DataFrame\n",
    "\n",
    "# Step 3: Run simulations looping through each row of the parametric table\n",
    "\n",
    "# Step 4: Save the result dataframe\n"
   ]
  }
 ],
 "metadata": {
  "kernelspec": {
   "display_name": "Python 3",
   "language": "python",
   "name": "python3"
  },
  "language_info": {
   "codemirror_mode": {
    "name": "ipython",
    "version": 3
   },
   "file_extension": ".py",
   "mimetype": "text/x-python",
   "name": "python",
   "nbconvert_exporter": "python",
   "pygments_lexer": "ipython3",
   "version": "3.12.0"
  }
 },
 "nbformat": 4,
 "nbformat_minor": 5
}
