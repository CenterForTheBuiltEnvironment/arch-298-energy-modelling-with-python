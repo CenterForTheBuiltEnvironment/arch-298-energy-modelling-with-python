{
 "cells": [
  {
   "cell_type": "markdown",
   "id": "27009dcd",
   "metadata": {},
   "source": [
    "# Week 4 Automate Parametric Simulations"
   ]
  },
  {
   "cell_type": "code",
   "execution_count": null,
   "id": "dc978443",
   "metadata": {},
   "outputs": [],
   "source": [
    "import pandas as pd\n",
    "import numpy as np\n",
    "from eppy.modeleditor import IDF\n",
    "from eppy import modeleditor\n",
    "import esoreader\n",
    "import os\n",
    "import sys\n",
    "from itertools import product\n",
    "import shutil"
   ]
  },
  {
   "cell_type": "code",
   "execution_count": null,
   "id": "dadcab2b",
   "metadata": {},
   "outputs": [],
   "source": [
    "eplus_root = r\"C:\\EnergyPlusV25-1-0\" # Change this to your EnergyPlus root directory\n",
    "iddfile = os.path.join(eplus_root,\"Energy+.idd\")\n",
    "try:\n",
    "    IDF.setiddname(iddfile)\n",
    "except modeleditor.IDDAlreadySetError as e:\n",
    "    print(e)\n",
    "    \n",
    "root_dir = os.getcwd()\n",
    "\n",
    "MAP_WEATHER = {\n",
    "    \"San Francisco\":os.path.normpath(os.path.join(root_dir, r'.\\weather data\\USA_CA_San.Francisco.Intl.AP.724940_TMY3.epw')),\n",
    "    \"Sacramento\":os.path.normpath(os.path.join(root_dir, r\"..\\weather data\\USA_CA_Sacramento.Exec.AP.724830_TMY3.epw\")),\n",
    "    \"Chicago\":os.path.normpath(os.path.join(root_dir, r\"..\\weather data\\USA_IL_Chicago-OHare.Intl.AP.725300_TMY3.epw\")),\n",
    "    \"New York\":os.path.normpath(os.path.join(root_dir, r\"..\\weather data\\USA_NY_New.York-J.F.Kennedy.Intl.AP.744860_TMY3.epw\")),\n",
    "}"
   ]
  },
  {
   "cell_type": "code",
   "execution_count": null,
   "id": "634033ac",
   "metadata": {},
   "outputs": [],
   "source": [
    "class ESO:\n",
    "    def __init__(self, path):\n",
    "        self.dd, self.data = esoreader.read(path)\n",
    "    def read_var(self, variable, frequency = \"Hourly\"):\n",
    "        return [\n",
    "            {\"key\": k,\n",
    "             \"series\": self.data[self.dd.index[frequency, k, variable]]}\n",
    "            for _f, k, _v in self.dd.find_variable(variable)\n",
    "        ]\n",
    "    def get_df(self, variable, frequency = \"Hourly\"):\n",
    "        dic = self.read_var(variable, frequency)\n",
    "        key = [each[\"key\"] for each in dic]\n",
    "        values = [each[\"series\"] for each in dic]\n",
    "        df = pd.DataFrame(values,index = key).T\n",
    "        return df\n",
    "    def total_kwh(self, variable, frequency = \"Hourly\"):\n",
    "        j_per_kwh = 3_600_000\n",
    "        results = self.read_var(variable,frequency)\n",
    "        return sum(sum(s[\"series\"]) for s in results)/j_per_kwh"
   ]
  },
  {
   "cell_type": "code",
   "execution_count": null,
   "id": "bb32f771",
   "metadata": {},
   "outputs": [],
   "source": [
    "# Step 1: Read the parametric table\n",
    "param_table = pd.read_csv()\n",
    "\n",
    "# Step 2: Prepare result DataFrame\n",
    "result_df = param_table.copy().assign(Heating_kwh=None, Cooling_kwh=None, Lighting_kwh=None)\n",
    "\n",
    "# Step 3: Run simulations looping through each row of the parametric table\n",
    "for index, row in param_table.iterrows():\n",
    "    \n",
    "    sim_id = row[...]\n",
    "    wea = row[...]\n",
    "    mod = row[...]\n",
    "    \n",
    "    # Locate IDF and EPW files\n",
    "    idf_dir = os.path.join()\n",
    "    epw_dir = MAP_WEATHER[...]\n",
    "    \n",
    "    # Load the IDF model\n",
    "    idf = IDF(...)\n",
    "    \n",
    "    # Add a meter for lighting electricity\n",
    "    idf.newidfobject(... )\n",
    "    \n",
    "    # Create simulation directory    \n",
    "    sim_dir = os.path.join(...)\n",
    "    os.makedirs(sim_dir, exist_ok=True)\n",
    "    \n",
    "    # Save and run new idf \n",
    "    idf.saveas(...)\n",
    "    os.chdir(...)\n",
    "    \n",
    "    try:\n",
    "        idf.run(expandobjects=True)\n",
    "        \n",
    "         # Read the eso file\n",
    "        eso_dir = os.path.join(...)\n",
    "        eso = ESO(eso_dir)\n",
    "        \n",
    "        # Update variable names if your meters differ\n",
    "        result_df.loc[index, \"Heating_kwh\"] = eso.total_kwh(\"DistrictHeatingWater:Facility\",\"TimeStep\")\n",
    "        result_df.loc[index, \"Cooling_kwh\"] = eso.total_kwh(...)\n",
    "        result_df.loc[index, \"Lighting_kwh\"] = eso.total_kwh(...)\n",
    "            \n",
    "        print(f'sim {sim_id} done')\n",
    "    \n",
    "    except Exception as e:\n",
    "        print(f\"⚠️ Simulation {sim_id} failed: {e}\")\n",
    "    \n",
    "    os.chdir(root_dir)\n",
    "\n",
    "# Step 4: Save the result dataframe\n",
    "result_df.to_csv(... , index= ...)  "
   ]
  }
 ],
 "metadata": {
  "kernelspec": {
   "display_name": "Python 3",
   "language": "python",
   "name": "python3"
  },
  "language_info": {
   "codemirror_mode": {
    "name": "ipython",
    "version": 3
   },
   "file_extension": ".py",
   "mimetype": "text/x-python",
   "name": "python",
   "nbconvert_exporter": "python",
   "pygments_lexer": "ipython3",
   "version": "3.12.0"
  }
 },
 "nbformat": 4,
 "nbformat_minor": 5
}
